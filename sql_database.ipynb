{
 "cells": [
  {
   "cell_type": "code",
   "execution_count": 110,
   "id": "1e197711-1090-4dd7-b771-a11f5170d2da",
   "metadata": {},
   "outputs": [],
   "source": [
    "from sqlalchemy import create_engine\n",
    "from sqlalchemy.ext.declarative import declarative_base\n",
    "from sqlalchemy import text\n",
    "from sqlalchemy import Column, Integer, String, Float , Boolean\n",
    "import numpy as np\n",
    "import matplotlib.pyplot as plt\n",
    "import pandas as pd\n",
    "import scipy.stats as st\n"
   ]
  },
  {
   "cell_type": "code",
   "execution_count": 5,
   "id": "aa4e67b8-b295-48bc-a6ee-4651235d9cd9",
   "metadata": {},
   "outputs": [],
   "source": [
    "#Base = declarative_base()\n",
    "\n",
    "#class moives(Base):\n",
    "#    __tablename__ = 'movies'\n",
    "#    adult = Column(Boolean)\n",
    "#    original_title = Column(String())\n",
    "#   release_date = Column(String())\n",
    "#    imdb_id = Column(String(), primary_key=True)\n",
    "#    popularity = Column(String())\n"
   ]
  },
  {
   "cell_type": "code",
   "execution_count": 10,
   "id": "43080780-f9d9-4dbf-9ace-f900e6bf6051",
   "metadata": {},
   "outputs": [],
   "source": [
    "engine = create_engine(\"sqlite:///movies.sqlite\")\n",
    "conn = engine.connect()"
   ]
  },
  {
   "cell_type": "code",
   "execution_count": 11,
   "id": "b0c63d16-fbe2-426f-8865-f320656d897e",
   "metadata": {},
   "outputs": [
    {
     "data": {
      "text/plain": [
       "45332"
      ]
     },
     "execution_count": 11,
     "metadata": {},
     "output_type": "execute_result"
    }
   ],
   "source": [
    "#insert movies data\n",
    "data = pd.read_csv('./CleanedCSV/reduced_Clean.csv')\n",
    "data.to_sql('movies', engine)"
   ]
  },
  {
   "cell_type": "code",
   "execution_count": 14,
   "id": "466360c7-d211-4808-a3ff-9871f2f38e15",
   "metadata": {},
   "outputs": [
    {
     "data": {
      "text/plain": [
       "40001"
      ]
     },
     "execution_count": 14,
     "metadata": {},
     "output_type": "execute_result"
    }
   ],
   "source": [
    "#insert goof data\n",
    "data2 = pd.read_csv('./CleanedCSV/goofsnocommas.csv')\n",
    "data2.to_sql('goofs', engine)"
   ]
  },
  {
   "cell_type": "code",
   "execution_count": 42,
   "id": "8d2df33b-ce7b-4fb5-abf7-4bd722f4cd48",
   "metadata": {},
   "outputs": [
    {
     "name": "stdout",
     "output_type": "stream",
     "text": [
      "RMKeyView(['index', 'title', 'imdb_id', 'category', 'goof']) + RMKeyView(['index', 'adult', 'original_title', 'release_date', 'imdb_id', 'popularity'])\n"
     ]
    }
   ],
   "source": [
    "#check the column names\n",
    "with engine.connect() as conn:\n",
    "    result1 = conn.execute('SELECT * FROM goofs')\n",
    "    result2 = conn.execute('SELECT * FROM movies')\n",
    "\n",
    " \n",
    "print(f'{result1._metadata.keys} + {result2._metadata.keys}')"
   ]
  },
  {
   "cell_type": "code",
   "execution_count": 103,
   "id": "8170be03-de55-4f83-846b-edf0a353c21c",
   "metadata": {},
   "outputs": [
    {
     "data": {
      "text/html": [
       "<div>\n",
       "<style scoped>\n",
       "    .dataframe tbody tr th:only-of-type {\n",
       "        vertical-align: middle;\n",
       "    }\n",
       "\n",
       "    .dataframe tbody tr th {\n",
       "        vertical-align: top;\n",
       "    }\n",
       "\n",
       "    .dataframe thead th {\n",
       "        text-align: right;\n",
       "    }\n",
       "</style>\n",
       "<table border=\"1\" class=\"dataframe\">\n",
       "  <thead>\n",
       "    <tr style=\"text-align: right;\">\n",
       "      <th></th>\n",
       "      <th>release_date</th>\n",
       "      <th>title</th>\n",
       "      <th>num_goofs</th>\n",
       "    </tr>\n",
       "  </thead>\n",
       "  <tbody>\n",
       "    <tr>\n",
       "      <th>0</th>\n",
       "      <td>1997-05-30</td>\n",
       "      <td>'Til There Was You</td>\n",
       "      <td>0</td>\n",
       "    </tr>\n",
       "    <tr>\n",
       "      <th>1</th>\n",
       "      <td>1994-09-01</td>\n",
       "      <td>1-900</td>\n",
       "      <td>0</td>\n",
       "    </tr>\n",
       "    <tr>\n",
       "      <th>2</th>\n",
       "      <td>1996-11-17</td>\n",
       "      <td>101 Dalmatians</td>\n",
       "      <td>22</td>\n",
       "    </tr>\n",
       "    <tr>\n",
       "      <th>3</th>\n",
       "      <td>1957-03-25</td>\n",
       "      <td>12 Angry Men</td>\n",
       "      <td>27</td>\n",
       "    </tr>\n",
       "    <tr>\n",
       "      <th>4</th>\n",
       "      <td>1995-12-29</td>\n",
       "      <td>12 Monkeys</td>\n",
       "      <td>33</td>\n",
       "    </tr>\n",
       "  </tbody>\n",
       "</table>\n",
       "</div>"
      ],
      "text/plain": [
       "  release_date               title  num_goofs\n",
       "0   1997-05-30  'Til There Was You          0\n",
       "1   1994-09-01               1-900          0\n",
       "2   1996-11-17      101 Dalmatians         22\n",
       "3   1957-03-25        12 Angry Men         27\n",
       "4   1995-12-29          12 Monkeys         33"
      ]
     },
     "execution_count": 103,
     "metadata": {},
     "output_type": "execute_result"
    }
   ],
   "source": [
    "# get goofs per year\n",
    "with engine.connect() as conn:\n",
    "    \n",
    "    #get the resulting table\n",
    "    result = conn.execute(text(\"SELECT movies.release_date, goofs.title, COUNT(goofs.goof) as num_goofs FROM goofs INNER JOIN movies ON goofs.imdb_id = movies.imdb_id GROUP BY goofs.title;\"))\n",
    "      \n",
    "    # convert the result to a pandas.DataFrame\n",
    "    movies_year = pd.DataFrame(result)\n",
    "\n",
    "movies_year.head()\n"
   ]
  },
  {
   "cell_type": "code",
   "execution_count": 104,
   "id": "e46af393-396f-4ef2-a1c3-c3f1fb7056cb",
   "metadata": {},
   "outputs": [],
   "source": [
    "movies_year.release_date =  pd.to_datetime(movies_year.release_date)\n",
    "movies_year['year'] = pd.DatetimeIndex(movies_year.release_date).year\n"
   ]
  },
  {
   "cell_type": "code",
   "execution_count": 105,
   "id": "1b31f5ef-defe-448f-829b-0d814ca3e9b4",
   "metadata": {},
   "outputs": [
    {
     "data": {
      "text/html": [
       "<div>\n",
       "<style scoped>\n",
       "    .dataframe tbody tr th:only-of-type {\n",
       "        vertical-align: middle;\n",
       "    }\n",
       "\n",
       "    .dataframe tbody tr th {\n",
       "        vertical-align: top;\n",
       "    }\n",
       "\n",
       "    .dataframe thead th {\n",
       "        text-align: right;\n",
       "    }\n",
       "</style>\n",
       "<table border=\"1\" class=\"dataframe\">\n",
       "  <thead>\n",
       "    <tr style=\"text-align: right;\">\n",
       "      <th></th>\n",
       "      <th>year</th>\n",
       "      <th>num_goofs</th>\n",
       "    </tr>\n",
       "  </thead>\n",
       "  <tbody>\n",
       "    <tr>\n",
       "      <th>0</th>\n",
       "      <td>1922</td>\n",
       "      <td>14.0</td>\n",
       "    </tr>\n",
       "    <tr>\n",
       "      <th>1</th>\n",
       "      <td>1927</td>\n",
       "      <td>14.5</td>\n",
       "    </tr>\n",
       "    <tr>\n",
       "      <th>2</th>\n",
       "      <td>1929</td>\n",
       "      <td>1.0</td>\n",
       "    </tr>\n",
       "    <tr>\n",
       "      <th>3</th>\n",
       "      <td>1930</td>\n",
       "      <td>16.0</td>\n",
       "    </tr>\n",
       "    <tr>\n",
       "      <th>4</th>\n",
       "      <td>1931</td>\n",
       "      <td>2.0</td>\n",
       "    </tr>\n",
       "  </tbody>\n",
       "</table>\n",
       "</div>"
      ],
      "text/plain": [
       "   year  num_goofs\n",
       "0  1922       14.0\n",
       "1  1927       14.5\n",
       "2  1929        1.0\n",
       "3  1930       16.0\n",
       "4  1931        2.0"
      ]
     },
     "execution_count": 105,
     "metadata": {},
     "output_type": "execute_result"
    }
   ],
   "source": [
    "plot_data = movies_year.groupby('year').mean()\n",
    "plot_data = plot_data.reset_index(level=0)\n",
    "plot_data = plot_data.sort_values('year')\n",
    "plot_data.head()"
   ]
  },
  {
   "cell_type": "code",
   "execution_count": 119,
   "id": "4c74946e-21ec-4967-9183-87467f638ebf",
   "metadata": {},
   "outputs": [
    {
     "data": {
      "image/png": "[encoded data removed]",
      "text/plain": [
       "<Figure size 1080x360 with 1 Axes>"
      ]
     },
     "metadata": {
      "needs_background": "light"
     },
     "output_type": "display_data"
    }
   ],
   "source": [
    "plot_data.plot(kind = 'bar', x = 'year', y = 'num_goofs', figsize = [15,5])\n",
    "plt.xlabel('Year')\n",
    "plt.ylabel('Average number of goofs')\n",
    "plt.title('Average goofs in movies per year')\n",
    "plt.savefig('./plots/goofs_by_year.png')\n",
    "plt.show()"
   ]
  },
  {
   "cell_type": "code",
   "execution_count": 97,
   "id": "681789af-a528-44c1-bda1-9169f8ad7e2a",
   "metadata": {},
   "outputs": [
    {
     "data": {
      "text/html": [
       "<div>\n",
       "<style scoped>\n",
       "    .dataframe tbody tr th:only-of-type {\n",
       "        vertical-align: middle;\n",
       "    }\n",
       "\n",
       "    .dataframe tbody tr th {\n",
       "        vertical-align: top;\n",
       "    }\n",
       "\n",
       "    .dataframe thead th {\n",
       "        text-align: right;\n",
       "    }\n",
       "</style>\n",
       "<table border=\"1\" class=\"dataframe\">\n",
       "  <thead>\n",
       "    <tr style=\"text-align: right;\">\n",
       "      <th></th>\n",
       "      <th>popularity</th>\n",
       "      <th>title</th>\n",
       "      <th>num_goofs</th>\n",
       "    </tr>\n",
       "  </thead>\n",
       "  <tbody>\n",
       "    <tr>\n",
       "      <th>0</th>\n",
       "      <td>2.700061</td>\n",
       "      <td>'Til There Was You</td>\n",
       "      <td>0</td>\n",
       "    </tr>\n",
       "    <tr>\n",
       "      <th>1</th>\n",
       "      <td>0.062128</td>\n",
       "      <td>1-900</td>\n",
       "      <td>0</td>\n",
       "    </tr>\n",
       "    <tr>\n",
       "      <th>2</th>\n",
       "      <td>11.470748</td>\n",
       "      <td>101 Dalmatians</td>\n",
       "      <td>22</td>\n",
       "    </tr>\n",
       "    <tr>\n",
       "      <th>3</th>\n",
       "      <td>16.503959</td>\n",
       "      <td>12 Angry Men</td>\n",
       "      <td>27</td>\n",
       "    </tr>\n",
       "    <tr>\n",
       "      <th>4</th>\n",
       "      <td>12.297305</td>\n",
       "      <td>12 Monkeys</td>\n",
       "      <td>33</td>\n",
       "    </tr>\n",
       "  </tbody>\n",
       "</table>\n",
       "</div>"
      ],
      "text/plain": [
       "   popularity               title  num_goofs\n",
       "0    2.700061  'Til There Was You          0\n",
       "1    0.062128               1-900          0\n",
       "2   11.470748      101 Dalmatians         22\n",
       "3   16.503959        12 Angry Men         27\n",
       "4   12.297305          12 Monkeys         33"
      ]
     },
     "execution_count": 97,
     "metadata": {},
     "output_type": "execute_result"
    }
   ],
   "source": [
    "#get goofs per popularity\n",
    "with engine.connect() as conn:\n",
    "    \n",
    "    #get the resulting table\n",
    "    result = conn.execute(text(\"SELECT movies.popularity, goofs.title, COUNT(goofs.goof) as num_goofs FROM goofs INNER JOIN movies ON goofs.imdb_id = movies.imdb_id GROUP BY goofs.title;\"))\n",
    "      \n",
    "    # convert the result to a pandas.DataFrame\n",
    "    movies_pop = pd.DataFrame(result)\n",
    "\n",
    "movies_pop.head()"
   ]
  },
  {
   "cell_type": "code",
   "execution_count": 113,
   "id": "4d7e4693-7e3c-430f-8045-13d7692801ef",
   "metadata": {},
   "outputs": [],
   "source": []
  },
  {
   "cell_type": "code",
   "execution_count": 118,
   "id": "798d9dcf-8829-492b-89d3-0663c64f90fa",
   "metadata": {},
   "outputs": [
    {
     "data": {
      "image/png": "[encoded data removed]",
      "text/plain": [
       "<Figure size 432x432 with 1 Axes>"
      ]
     },
     "metadata": {
      "needs_background": "light"
     },
     "output_type": "display_data"
    }
   ],
   "source": [
    "linreg = st.linregress(movies_pop.popularity, movies_pop.num_goofs)\n",
    "movies_pop.plot(kind = 'scatter', x = 'popularity', y = 'num_goofs', figsize = [6,6])\n",
    "plt.plot(movies_pop.popularity, (movies_pop.popularity*linreg[0])+linreg[1], color = 'red')\n",
    "plt.text(2,400,f'r\\u00B2 = {round(linreg[2],3)}, P = {round(linreg[3],2)}', color = 'blue')\n",
    "plt.xlim(left = 0, right = 60)\n",
    "plt.xlabel('Popularity')\n",
    "plt.ylabel('Number of goofs')\n",
    "plt.title('Number of Goofs vs. Popularity')\n",
    "plt.savefig('./plots/goofs_pop.png')\n",
    "plt.show()"
   ]
  },
  {
   "cell_type": "code",
   "execution_count": null,
   "id": "533cd524-3871-48c3-ba96-f658d2359da4",
   "metadata": {},
   "outputs": [],
   "source": []
  }
 ],
 "metadata": {
  "kernelspec": {
   "display_name": "Python 3 (ipykernel)",
   "language": "python",
   "name": "python3"
  },
  "language_info": {
   "codemirror_mode": {
    "name": "ipython",
    "version": 3
   },
   "file_extension": ".py",
   "mimetype": "text/x-python",
   "name": "python",
   "nbconvert_exporter": "python",
   "pygments_lexer": "ipython3",
   "version": "3.9.12"
  }
 },
 "nbformat": 4,
 "nbformat_minor": 5
}
