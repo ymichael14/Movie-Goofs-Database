{
 "cells": [
  {
   "cell_type": "code",
   "execution_count": 1,
   "id": "8fd4cc4a",
   "metadata": {},
   "outputs": [],
   "source": [
    "import pandas as pd\n",
    "import numpy as np\n",
    "from datetime import datetime"
   ]
  },
  {
   "cell_type": "code",
   "execution_count": 2,
   "id": "755e4e41",
   "metadata": {},
   "outputs": [
    {
     "name": "stderr",
     "output_type": "stream",
     "text": [
      "/var/folders/hl/hq5d39rj61s65dfk1rmq7z1c0000gn/T/ipykernel_80326/3159696826.py:1: DtypeWarning: Columns (10) have mixed types. Specify dtype option on import or set low_memory=False.\n",
      "  df=pd.read_csv('./raw_files/movies_metadata.csv')\n"
     ]
    }
   ],
   "source": [
    "df=pd.read_csv('./raw_files/movies_metadata.csv')"
   ]
  },
  {
   "cell_type": "code",
   "execution_count": 3,
   "id": "19acc2bb",
   "metadata": {},
   "outputs": [
    {
     "data": {
      "text/plain": [
       "Index(['adult', 'belongs_to_collection', 'budget', 'genres', 'homepage', 'id',\n",
       "       'imdb_id', 'original_language', 'original_title', 'overview',\n",
       "       'popularity', 'poster_path', 'production_companies',\n",
       "       'production_countries', 'release_date', 'revenue', 'runtime',\n",
       "       'spoken_languages', 'status', 'tagline', 'title', 'video',\n",
       "       'vote_average', 'vote_count'],\n",
       "      dtype='object')"
      ]
     },
     "execution_count": 3,
     "metadata": {},
     "output_type": "execute_result"
    }
   ],
   "source": [
    "df.columns"
   ]
  },
  {
   "cell_type": "code",
   "execution_count": 4,
   "id": "c1a3a268",
   "metadata": {},
   "outputs": [],
   "source": [
    "reduced_df=df[['adult','original_title','release_date','imdb_id','popularity']]"
   ]
  },
  {
   "cell_type": "code",
   "execution_count": 5,
   "id": "f2789d6c",
   "metadata": {},
   "outputs": [
    {
     "name": "stdout",
     "output_type": "stream",
     "text": [
      "<class 'pandas.core.frame.DataFrame'>\n",
      "RangeIndex: 45466 entries, 0 to 45465\n",
      "Data columns (total 5 columns):\n",
      " #   Column          Non-Null Count  Dtype \n",
      "---  ------          --------------  ----- \n",
      " 0   adult           45466 non-null  object\n",
      " 1   original_title  45466 non-null  object\n",
      " 2   release_date    45379 non-null  object\n",
      " 3   imdb_id         45449 non-null  object\n",
      " 4   popularity      45461 non-null  object\n",
      "dtypes: object(5)\n",
      "memory usage: 1.7+ MB\n"
     ]
    }
   ],
   "source": [
    "reduced_df.info()"
   ]
  },
  {
   "cell_type": "code",
   "execution_count": 6,
   "id": "89164895",
   "metadata": {},
   "outputs": [],
   "source": [
    "reduced_df=reduced_df.dropna(how='any')"
   ]
  },
  {
   "cell_type": "code",
   "execution_count": 7,
   "id": "2bb209c4",
   "metadata": {},
   "outputs": [
    {
     "name": "stdout",
     "output_type": "stream",
     "text": [
      "<class 'pandas.core.frame.DataFrame'>\n",
      "Int64Index: 45363 entries, 0 to 45465\n",
      "Data columns (total 5 columns):\n",
      " #   Column          Non-Null Count  Dtype \n",
      "---  ------          --------------  ----- \n",
      " 0   adult           45363 non-null  object\n",
      " 1   original_title  45363 non-null  object\n",
      " 2   release_date    45363 non-null  object\n",
      " 3   imdb_id         45363 non-null  object\n",
      " 4   popularity      45363 non-null  object\n",
      "dtypes: object(5)\n",
      "memory usage: 2.1+ MB\n"
     ]
    }
   ],
   "source": [
    "reduced_df.info()"
   ]
  },
  {
   "cell_type": "code",
   "execution_count": 8,
   "id": "84bc5eeb",
   "metadata": {},
   "outputs": [
    {
     "data": {
      "text/plain": [
       "45363"
      ]
     },
     "execution_count": 8,
     "metadata": {},
     "output_type": "execute_result"
    }
   ],
   "source": [
    "len(reduced_df['release_date'])"
   ]
  },
  {
   "cell_type": "code",
   "execution_count": 9,
   "id": "1891c6d7",
   "metadata": {},
   "outputs": [
    {
     "data": {
      "text/plain": [
       "'1995-10-30'"
      ]
     },
     "execution_count": 9,
     "metadata": {},
     "output_type": "execute_result"
    }
   ],
   "source": [
    "reduced_df['release_date'][0]"
   ]
  },
  {
   "cell_type": "code",
   "execution_count": 10,
   "id": "c87e9a3f",
   "metadata": {},
   "outputs": [
    {
     "name": "stdout",
     "output_type": "stream",
     "text": [
      "22\n"
     ]
    }
   ],
   "source": [
    "for item in reduced_df['release_date']:\n",
    "    if len(item)!=10: \n",
    "        print(item)"
   ]
  },
  {
   "cell_type": "code",
   "execution_count": 11,
   "id": "c1989f56",
   "metadata": {},
   "outputs": [
    {
     "data": {
      "text/html": [
       "<div>\n",
       "<style scoped>\n",
       "    .dataframe tbody tr th:only-of-type {\n",
       "        vertical-align: middle;\n",
       "    }\n",
       "\n",
       "    .dataframe tbody tr th {\n",
       "        vertical-align: top;\n",
       "    }\n",
       "\n",
       "    .dataframe thead th {\n",
       "        text-align: right;\n",
       "    }\n",
       "</style>\n",
       "<table border=\"1\" class=\"dataframe\">\n",
       "  <thead>\n",
       "    <tr style=\"text-align: right;\">\n",
       "      <th></th>\n",
       "      <th>adult</th>\n",
       "      <th>original_title</th>\n",
       "      <th>release_date</th>\n",
       "      <th>imdb_id</th>\n",
       "      <th>popularity</th>\n",
       "    </tr>\n",
       "  </thead>\n",
       "  <tbody>\n",
       "    <tr>\n",
       "      <th>35587</th>\n",
       "      <td>Avalanche Sharks tells the story of a bikini ...</td>\n",
       "      <td>[{'iso_639_1': 'en', 'name': 'English'}]</td>\n",
       "      <td>22</td>\n",
       "      <td>0</td>\n",
       "      <td>Beware Of Frost Bites</td>\n",
       "    </tr>\n",
       "  </tbody>\n",
       "</table>\n",
       "</div>"
      ],
      "text/plain": [
       "                                                   adult  \\\n",
       "35587   Avalanche Sharks tells the story of a bikini ...   \n",
       "\n",
       "                                 original_title release_date imdb_id  \\\n",
       "35587  [{'iso_639_1': 'en', 'name': 'English'}]           22       0   \n",
       "\n",
       "                  popularity  \n",
       "35587  Beware Of Frost Bites  "
      ]
     },
     "execution_count": 11,
     "metadata": {},
     "output_type": "execute_result"
    }
   ],
   "source": [
    "reduced_df.loc[reduced_df['release_date']=='22',:]"
   ]
  },
  {
   "cell_type": "code",
   "execution_count": 12,
   "id": "aff98b09",
   "metadata": {},
   "outputs": [],
   "source": [
    "reduced_df=reduced_df.drop(35587)"
   ]
  },
  {
   "cell_type": "code",
   "execution_count": 13,
   "id": "46d8c91a",
   "metadata": {},
   "outputs": [
    {
     "data": {
      "text/plain": [
       "45362"
      ]
     },
     "execution_count": 13,
     "metadata": {},
     "output_type": "execute_result"
    }
   ],
   "source": [
    "len(reduced_df['release_date'])"
   ]
  },
  {
   "cell_type": "code",
   "execution_count": 14,
   "id": "f21cae9c",
   "metadata": {},
   "outputs": [],
   "source": [
    "reduced_df['release_date']=pd.to_datetime(reduced_df['release_date'], format='%Y-%m-%d') #wasn't able to convert "
   ]
  },
  {
   "cell_type": "code",
   "execution_count": 15,
   "id": "ff54e3f8",
   "metadata": {},
   "outputs": [],
   "source": [
    "reduced_df.to_csv('./CleanedCSV/reduced_Clean.csv')"
   ]
  },
  {
   "cell_type": "code",
   "execution_count": 16,
   "id": "69d5cc3c",
   "metadata": {},
   "outputs": [
    {
     "data": {
      "text/plain": [
       "array(['False', 'True'], dtype=object)"
      ]
     },
     "execution_count": 16,
     "metadata": {},
     "output_type": "execute_result"
    }
   ],
   "source": [
    "reduced_df['adult'].unique()"
   ]
  },
  {
   "cell_type": "code",
   "execution_count": 17,
   "id": "bc1f77ae",
   "metadata": {},
   "outputs": [
    {
     "data": {
      "text/html": [
       "<div>\n",
       "<style scoped>\n",
       "    .dataframe tbody tr th:only-of-type {\n",
       "        vertical-align: middle;\n",
       "    }\n",
       "\n",
       "    .dataframe tbody tr th {\n",
       "        vertical-align: top;\n",
       "    }\n",
       "\n",
       "    .dataframe thead th {\n",
       "        text-align: right;\n",
       "    }\n",
       "</style>\n",
       "<table border=\"1\" class=\"dataframe\">\n",
       "  <thead>\n",
       "    <tr style=\"text-align: right;\">\n",
       "      <th></th>\n",
       "      <th>adult</th>\n",
       "      <th>original_title</th>\n",
       "      <th>release_date</th>\n",
       "      <th>imdb_id</th>\n",
       "      <th>popularity</th>\n",
       "    </tr>\n",
       "  </thead>\n",
       "  <tbody>\n",
       "    <tr>\n",
       "      <th>0</th>\n",
       "      <td>False</td>\n",
       "      <td>Toy Story</td>\n",
       "      <td>1995-10-30</td>\n",
       "      <td>tt0114709</td>\n",
       "      <td>21.946943</td>\n",
       "    </tr>\n",
       "    <tr>\n",
       "      <th>1</th>\n",
       "      <td>False</td>\n",
       "      <td>Jumanji</td>\n",
       "      <td>1995-12-15</td>\n",
       "      <td>tt0113497</td>\n",
       "      <td>17.015539</td>\n",
       "    </tr>\n",
       "    <tr>\n",
       "      <th>2</th>\n",
       "      <td>False</td>\n",
       "      <td>Grumpier Old Men</td>\n",
       "      <td>1995-12-22</td>\n",
       "      <td>tt0113228</td>\n",
       "      <td>11.7129</td>\n",
       "    </tr>\n",
       "    <tr>\n",
       "      <th>3</th>\n",
       "      <td>False</td>\n",
       "      <td>Waiting to Exhale</td>\n",
       "      <td>1995-12-22</td>\n",
       "      <td>tt0114885</td>\n",
       "      <td>3.859495</td>\n",
       "    </tr>\n",
       "    <tr>\n",
       "      <th>4</th>\n",
       "      <td>False</td>\n",
       "      <td>Father of the Bride Part II</td>\n",
       "      <td>1995-02-10</td>\n",
       "      <td>tt0113041</td>\n",
       "      <td>8.387519</td>\n",
       "    </tr>\n",
       "  </tbody>\n",
       "</table>\n",
       "</div>"
      ],
      "text/plain": [
       "   adult               original_title release_date    imdb_id popularity\n",
       "0  False                    Toy Story   1995-10-30  tt0114709  21.946943\n",
       "1  False                      Jumanji   1995-12-15  tt0113497  17.015539\n",
       "2  False             Grumpier Old Men   1995-12-22  tt0113228    11.7129\n",
       "3  False            Waiting to Exhale   1995-12-22  tt0114885   3.859495\n",
       "4  False  Father of the Bride Part II   1995-02-10  tt0113041   8.387519"
      ]
     },
     "execution_count": 17,
     "metadata": {},
     "output_type": "execute_result"
    }
   ],
   "source": [
    "reduced_df.head()"
   ]
  },
  {
   "cell_type": "code",
   "execution_count": 18,
   "id": "fbd522f2",
   "metadata": {},
   "outputs": [],
   "source": [
    "substring='Toy Story'"
   ]
  },
  {
   "cell_type": "code",
   "execution_count": 24,
   "id": "f41fddc6",
   "metadata": {},
   "outputs": [
    {
     "name": "stderr",
     "output_type": "stream",
     "text": [
      "/var/folders/hl/hq5d39rj61s65dfk1rmq7z1c0000gn/T/ipykernel_80326/1959592433.py:1: FutureWarning: The default value of regex will change from True to False in a future version.\n",
      "  reduced_df.original_title = reduced_df.original_title.str.replace('\\,','')\n"
     ]
    },
    {
     "data": {
      "text/plain": [
       "array([False])"
      ]
     },
     "execution_count": 24,
     "metadata": {},
     "output_type": "execute_result"
    }
   ],
   "source": [
    "reduced_df.original_title = reduced_df.original_title.str.replace('\\,','')\n",
    "test=reduced_df.original_title.str.contains('\\,')\n",
    "test.unique()"
   ]
  },
  {
   "cell_type": "code",
   "execution_count": 25,
   "id": "9542cef0",
   "metadata": {},
   "outputs": [
    {
     "data": {
      "text/html": [
       "<div>\n",
       "<style scoped>\n",
       "    .dataframe tbody tr th:only-of-type {\n",
       "        vertical-align: middle;\n",
       "    }\n",
       "\n",
       "    .dataframe tbody tr th {\n",
       "        vertical-align: top;\n",
       "    }\n",
       "\n",
       "    .dataframe thead th {\n",
       "        text-align: right;\n",
       "    }\n",
       "</style>\n",
       "<table border=\"1\" class=\"dataframe\">\n",
       "  <thead>\n",
       "    <tr style=\"text-align: right;\">\n",
       "      <th></th>\n",
       "      <th>adult</th>\n",
       "      <th>original_title</th>\n",
       "      <th>release_date</th>\n",
       "      <th>imdb_id</th>\n",
       "      <th>popularity</th>\n",
       "    </tr>\n",
       "  </thead>\n",
       "  <tbody>\n",
       "    <tr>\n",
       "      <th>0</th>\n",
       "      <td>False</td>\n",
       "      <td>Toy Story</td>\n",
       "      <td>1995-10-30</td>\n",
       "      <td>tt0114709</td>\n",
       "      <td>21.946943</td>\n",
       "    </tr>\n",
       "    <tr>\n",
       "      <th>1</th>\n",
       "      <td>False</td>\n",
       "      <td>Jumanji</td>\n",
       "      <td>1995-12-15</td>\n",
       "      <td>tt0113497</td>\n",
       "      <td>17.015539</td>\n",
       "    </tr>\n",
       "    <tr>\n",
       "      <th>2</th>\n",
       "      <td>False</td>\n",
       "      <td>Grumpier Old Men</td>\n",
       "      <td>1995-12-22</td>\n",
       "      <td>tt0113228</td>\n",
       "      <td>11.7129</td>\n",
       "    </tr>\n",
       "    <tr>\n",
       "      <th>3</th>\n",
       "      <td>False</td>\n",
       "      <td>Waiting to Exhale</td>\n",
       "      <td>1995-12-22</td>\n",
       "      <td>tt0114885</td>\n",
       "      <td>3.859495</td>\n",
       "    </tr>\n",
       "    <tr>\n",
       "      <th>4</th>\n",
       "      <td>False</td>\n",
       "      <td>Father of the Bride Part II</td>\n",
       "      <td>1995-02-10</td>\n",
       "      <td>tt0113041</td>\n",
       "      <td>8.387519</td>\n",
       "    </tr>\n",
       "  </tbody>\n",
       "</table>\n",
       "</div>"
      ],
      "text/plain": [
       "   adult               original_title release_date    imdb_id popularity\n",
       "0  False                    Toy Story   1995-10-30  tt0114709  21.946943\n",
       "1  False                      Jumanji   1995-12-15  tt0113497  17.015539\n",
       "2  False             Grumpier Old Men   1995-12-22  tt0113228    11.7129\n",
       "3  False            Waiting to Exhale   1995-12-22  tt0114885   3.859495\n",
       "4  False  Father of the Bride Part II   1995-02-10  tt0113041   8.387519"
      ]
     },
     "execution_count": 25,
     "metadata": {},
     "output_type": "execute_result"
    }
   ],
   "source": [
    "reduced_df.head()"
   ]
  },
  {
   "cell_type": "code",
   "execution_count": 26,
   "id": "b042a966",
   "metadata": {},
   "outputs": [],
   "source": [
    "reduced_df.to_csv('./CleanedCSV/reduced_Clean.csv')\n"
   ]
  },
  {
   "cell_type": "code",
   "execution_count": null,
   "id": "dc333e83",
   "metadata": {},
   "outputs": [],
   "source": []
  },
  {
   "cell_type": "code",
   "execution_count": null,
   "id": "1c6bc880",
   "metadata": {},
   "outputs": [],
   "source": []
  }
 ],
 "metadata": {
  "kernelspec": {
   "display_name": "Python 3 (ipykernel)",
   "language": "python",
   "name": "python3"
  },
  "language_info": {
   "codemirror_mode": {
    "name": "ipython",
    "version": 3
   },
   "file_extension": ".py",
   "mimetype": "text/x-python",
   "name": "python",
   "nbconvert_exporter": "python",
   "pygments_lexer": "ipython3",
   "version": "3.9.12"
  }
 },
 "nbformat": 4,
 "nbformat_minor": 5
}
