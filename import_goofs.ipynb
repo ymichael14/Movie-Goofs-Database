{
 "cells": [
  {
   "cell_type": "code",
   "execution_count": 56,
   "id": "fd2885dd-7980-47c4-834f-aea7348c8780",
   "metadata": {},
   "outputs": [],
   "source": [
    "from imdb import Cinemagoer\n",
    "import pandas as pd\n",
    "import re\n"
   ]
  },
  {
   "cell_type": "code",
   "execution_count": 122,
   "id": "7df111fd-5ecd-4a78-b633-800c1a3af9a5",
   "metadata": {},
   "outputs": [
    {
     "name": "stderr",
     "output_type": "stream",
     "text": [
      "/var/folders/hl/hq5d39rj61s65dfk1rmq7z1c0000gn/T/ipykernel_54217/1661279126.py:1: DtypeWarning: Columns (10) have mixed types. Specify dtype option on import or set low_memory=False.\n",
      "  df = pd.read_csv('./raw_files/movies_metadata.csv')\n"
     ]
    }
   ],
   "source": [
    "df = pd.read_csv('./raw_files/movies_metadata.csv')\n",
    "id_raw = list(df.imdb_id)\n",
    "movies = list()\n",
    "\n",
    "for i in id_raw:\n",
    "    try:\n",
    "        id_clean = re.sub('\\D', '', i)\n",
    "        movies.append(id_clean)\n",
    "    except:\n",
    "        continue\n",
    "    "
   ]
  },
  {
   "cell_type": "code",
   "execution_count": 48,
   "id": "4767c8ea-3a8a-4bd9-87a6-e386c5e471cb",
   "metadata": {},
   "outputs": [],
   "source": [
    "ia = Cinemagoer()"
   ]
  },
  {
   "cell_type": "code",
   "execution_count": 118,
   "id": "f3829418-ca08-409c-bf70-d48955b314e1",
   "metadata": {},
   "outputs": [],
   "source": [
    "#This block pulls all the goofs from the movies list, up until >40,000 goofs\n",
    "#Do not run this - it takes several hours\n",
    "#rows_list = []\n",
    "for m in movies:\n",
    "    try:\n",
    "        title = ia.get_movie(m)\n",
    "    except:\n",
    "        continue\n",
    "    try:\n",
    "        goofs = ia.get_movie_goofs(m)['data']['goofs']\n",
    "        for g in goofs:\n",
    "            category = g['category']\n",
    "            goof = g['text']\n",
    "            dict1 = {'title':title,\n",
    "                 'category':category,\n",
    "                 'goof':goof}\n",
    "            rows_list.append(dict1)\n",
    "    except:\n",
    "        category = 'NA'\n",
    "        goof = 'NA'\n",
    "        dict1 = {'title':title,\n",
    "                 'category':category,\n",
    "                 'goof':goof}\n",
    "        rows_list.append(dict1)\n",
    "    if len(rows_list) >= 40000: #finish when the document has collected 40,000 goofs\n",
    "        break"
   ]
  },
  {
   "cell_type": "code",
   "execution_count": 119,
   "id": "bbb46780-15fa-426d-9cfe-f708776e8cb4",
   "metadata": {},
   "outputs": [
    {
     "data": {
      "text/plain": [
       "40116"
      ]
     },
     "execution_count": 119,
     "metadata": {},
     "output_type": "execute_result"
    }
   ],
   "source": [
    "len(rows_list)\n"
   ]
  },
  {
   "cell_type": "code",
   "execution_count": 109,
   "id": "88316835-9f2b-420d-8939-5d9b40ed8316",
   "metadata": {},
   "outputs": [],
   "source": [
    "result = pd.DataFrame.from_dict(rows_list)               \n"
   ]
  },
  {
   "cell_type": "code",
   "execution_count": 113,
   "id": "b30472bc-82b0-43ef-982d-8e7e844b1380",
   "metadata": {},
   "outputs": [],
   "source": [
    "result.to_csv('./CleanedCSV/goofs.csv')"
   ]
  },
  {
   "cell_type": "code",
   "execution_count": 120,
   "id": "a4b5739f-0c40-48ae-b2d8-4a0798f97b06",
   "metadata": {},
   "outputs": [],
   "source": [
    "goofs_csv = pd.read_csv('./CleanedCSV/goofs.csv')"
   ]
  },
  {
   "cell_type": "code",
   "execution_count": 121,
   "id": "17b31bcb-37ce-44d4-950d-d286b03179ca",
   "metadata": {},
   "outputs": [
    {
     "data": {
      "text/html": [
       "<div>\n",
       "<style scoped>\n",
       "    .dataframe tbody tr th:only-of-type {\n",
       "        vertical-align: middle;\n",
       "    }\n",
       "\n",
       "    .dataframe tbody tr th {\n",
       "        vertical-align: top;\n",
       "    }\n",
       "\n",
       "    .dataframe thead th {\n",
       "        text-align: right;\n",
       "    }\n",
       "</style>\n",
       "<table border=\"1\" class=\"dataframe\">\n",
       "  <thead>\n",
       "    <tr style=\"text-align: right;\">\n",
       "      <th></th>\n",
       "      <th>Unnamed: 0</th>\n",
       "      <th>title</th>\n",
       "      <th>category</th>\n",
       "      <th>goof</th>\n",
       "    </tr>\n",
       "  </thead>\n",
       "  <tbody>\n",
       "    <tr>\n",
       "      <th>0</th>\n",
       "      <td>0</td>\n",
       "      <td>Toy Story</td>\n",
       "      <td>Audio/visual unsynchronised</td>\n",
       "      <td>When Buzz notices that his cardboard spaceship...</td>\n",
       "    </tr>\n",
       "    <tr>\n",
       "      <th>1</th>\n",
       "      <td>1</td>\n",
       "      <td>Toy Story</td>\n",
       "      <td>Audio/visual unsynchronised</td>\n",
       "      <td>When Buzz and Woody first meet, Buzz points hi...</td>\n",
       "    </tr>\n",
       "    <tr>\n",
       "      <th>2</th>\n",
       "      <td>2</td>\n",
       "      <td>Toy Story</td>\n",
       "      <td>Character error</td>\n",
       "      <td>When Buzz and Woody are trying to get back int...</td>\n",
       "    </tr>\n",
       "    <tr>\n",
       "      <th>3</th>\n",
       "      <td>3</td>\n",
       "      <td>Toy Story</td>\n",
       "      <td>Character error</td>\n",
       "      <td>When Sarge looks through his binoculars for th...</td>\n",
       "    </tr>\n",
       "    <tr>\n",
       "      <th>4</th>\n",
       "      <td>4</td>\n",
       "      <td>Toy Story</td>\n",
       "      <td>Character error</td>\n",
       "      <td>When all the toys are amazed at Buzz Lightyear...</td>\n",
       "    </tr>\n",
       "  </tbody>\n",
       "</table>\n",
       "</div>"
      ],
      "text/plain": [
       "   Unnamed: 0      title                     category  \\\n",
       "0           0  Toy Story  Audio/visual unsynchronised   \n",
       "1           1  Toy Story  Audio/visual unsynchronised   \n",
       "2           2  Toy Story              Character error   \n",
       "3           3  Toy Story              Character error   \n",
       "4           4  Toy Story              Character error   \n",
       "\n",
       "                                                goof  \n",
       "0  When Buzz notices that his cardboard spaceship...  \n",
       "1  When Buzz and Woody first meet, Buzz points hi...  \n",
       "2  When Buzz and Woody are trying to get back int...  \n",
       "3  When Sarge looks through his binoculars for th...  \n",
       "4  When all the toys are amazed at Buzz Lightyear...  "
      ]
     },
     "execution_count": 121,
     "metadata": {},
     "output_type": "execute_result"
    }
   ],
   "source": [
    "goofs_csv.head()"
   ]
  },
  {
   "cell_type": "code",
   "execution_count": null,
   "id": "d223a4f3-7a05-403b-808c-ce2e21869896",
   "metadata": {},
   "outputs": [],
   "source": []
  }
 ],
 "metadata": {
  "kernelspec": {
   "display_name": "Python 3 (ipykernel)",
   "language": "python",
   "name": "python3"
  },
  "language_info": {
   "codemirror_mode": {
    "name": "ipython",
    "version": 3
   },
   "file_extension": ".py",
   "mimetype": "text/x-python",
   "name": "python",
   "nbconvert_exporter": "python",
   "pygments_lexer": "ipython3",
   "version": "3.9.12"
  }
 },
 "nbformat": 4,
 "nbformat_minor": 5
}
