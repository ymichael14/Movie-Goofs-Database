{
 "cells": [
  {
   "cell_type": "code",
   "execution_count": 14,
   "id": "fd2885dd-7980-47c4-834f-aea7348c8780",
   "metadata": {},
   "outputs": [],
   "source": [
    "from imdb import Cinemagoer\n",
    "import pandas as pd\n",
    "import re\n",
    "from IPython.display import clear_output\n",
    "import numpy as np\n"
   ]
  },
  {
   "cell_type": "code",
   "execution_count": 5,
   "id": "7df111fd-5ecd-4a78-b633-800c1a3af9a5",
   "metadata": {},
   "outputs": [
    {
     "name": "stderr",
     "output_type": "stream",
     "text": [
      "/var/folders/hl/hq5d39rj61s65dfk1rmq7z1c0000gn/T/ipykernel_70168/817060656.py:1: DtypeWarning: Columns (10) have mixed types. Specify dtype option on import or set low_memory=False.\n",
      "  df = pd.read_csv('./raw_files/movies_metadata.csv')\n"
     ]
    }
   ],
   "source": [
    "df = pd.read_csv('./raw_files/movies_metadata.csv')\n",
    "id_raw = list(df.imdb_id)\n",
    "movies = list()\n",
    "imdb_id = []\n",
    "\n",
    "\n",
    "for i in id_raw:\n",
    "    try:\n",
    "        id_clean = re.sub('\\D', '', i)\n",
    "        movies.append(id_clean)\n",
    "        imdb_id.append(i)\n",
    "    except:\n",
    "        continue\n",
    "        \n",
    "    "
   ]
  },
  {
   "cell_type": "code",
   "execution_count": 6,
   "id": "4767c8ea-3a8a-4bd9-87a6-e386c5e471cb",
   "metadata": {},
   "outputs": [],
   "source": [
    "ia = Cinemagoer()"
   ]
  },
  {
   "cell_type": "code",
   "execution_count": 7,
   "id": "f3829418-ca08-409c-bf70-d48955b314e1",
   "metadata": {},
   "outputs": [
    {
     "name": "stdout",
     "output_type": "stream",
     "text": [
      "40001\n"
     ]
    }
   ],
   "source": [
    "#This block pulls all the goofs from the movies list, up until >40,000 goofs\n",
    "#Do not run this - it takes several hours\n",
    "rows_list = []\n",
    "for m in movies:\n",
    "    try:\n",
    "        title = ia.get_movie(m) #get the name of the movie\n",
    "        imdb_id = 'tt' + m #save the imdb_id\n",
    "    except:\n",
    "        continue\n",
    "    try:\n",
    "        goofs = ia.get_movie_goofs(m)['data']['goofs'] #get all the goofs for a certain movie\n",
    "        for g in goofs: #cycle through the list of goofs\n",
    "            category = g['category']\n",
    "            goof = g['text']\n",
    "            dict1 = {'title':title, #create a dictionary with necessary data\n",
    "                     'imdb_id':imdb_id,\n",
    "                 'category':category,\n",
    "                 'goof':goof} \n",
    "            rows_list.append(dict1) #append the dictionary to a list - each row will be a single goof\n",
    "            clear_output(wait=True) #clear the output\n",
    "            print(len(rows_list)) #print the current lenghth of df\n",
    "    except:\n",
    "        category = 'NA'\n",
    "        goof = 'NA'\n",
    "        dict1 = {'title':title,\n",
    "                 'imdb_id':imdb_id,\n",
    "                 'category':category,\n",
    "                 'goof':goof}\n",
    "        rows_list.append(dict1)\n",
    "        clear_output(wait=True)\n",
    "        print(len(rows_list))\n",
    "    if len(rows_list) >= 40000: #finish when the document has collected 40,000 goofs\n",
    "        break"
   ]
  },
  {
   "cell_type": "code",
   "execution_count": 8,
   "id": "88316835-9f2b-420d-8939-5d9b40ed8316",
   "metadata": {},
   "outputs": [],
   "source": [
    "result = pd.DataFrame.from_dict(rows_list)               \n",
    "result.to_csv('./CleanedCSV/goofs.csv')"
   ]
  },
  {
   "cell_type": "code",
   "execution_count": 10,
   "id": "a4b5739f-0c40-48ae-b2d8-4a0798f97b06",
   "metadata": {},
   "outputs": [
    {
     "data": {
      "text/html": [
       "<div>\n",
       "<style scoped>\n",
       "    .dataframe tbody tr th:only-of-type {\n",
       "        vertical-align: middle;\n",
       "    }\n",
       "\n",
       "    .dataframe tbody tr th {\n",
       "        vertical-align: top;\n",
       "    }\n",
       "\n",
       "    .dataframe thead th {\n",
       "        text-align: right;\n",
       "    }\n",
       "</style>\n",
       "<table border=\"1\" class=\"dataframe\">\n",
       "  <thead>\n",
       "    <tr style=\"text-align: right;\">\n",
       "      <th></th>\n",
       "      <th>Unnamed: 0</th>\n",
       "      <th>title</th>\n",
       "      <th>imdb_id</th>\n",
       "      <th>category</th>\n",
       "      <th>goof</th>\n",
       "    </tr>\n",
       "  </thead>\n",
       "  <tbody>\n",
       "    <tr>\n",
       "      <th>0</th>\n",
       "      <td>0</td>\n",
       "      <td>Toy Story</td>\n",
       "      <td>tt0114709</td>\n",
       "      <td>Audio/visual unsynchronised</td>\n",
       "      <td>When Buzz notices that his cardboard spaceship...</td>\n",
       "    </tr>\n",
       "    <tr>\n",
       "      <th>1</th>\n",
       "      <td>1</td>\n",
       "      <td>Toy Story</td>\n",
       "      <td>tt0114709</td>\n",
       "      <td>Audio/visual unsynchronised</td>\n",
       "      <td>When Buzz and Woody first meet, Buzz points hi...</td>\n",
       "    </tr>\n",
       "    <tr>\n",
       "      <th>2</th>\n",
       "      <td>2</td>\n",
       "      <td>Toy Story</td>\n",
       "      <td>tt0114709</td>\n",
       "      <td>Character error</td>\n",
       "      <td>When Buzz and Woody are trying to get back int...</td>\n",
       "    </tr>\n",
       "    <tr>\n",
       "      <th>3</th>\n",
       "      <td>3</td>\n",
       "      <td>Toy Story</td>\n",
       "      <td>tt0114709</td>\n",
       "      <td>Character error</td>\n",
       "      <td>When Sarge looks through his binoculars for th...</td>\n",
       "    </tr>\n",
       "    <tr>\n",
       "      <th>4</th>\n",
       "      <td>4</td>\n",
       "      <td>Toy Story</td>\n",
       "      <td>tt0114709</td>\n",
       "      <td>Character error</td>\n",
       "      <td>When all the toys are amazed at Buzz Lightyear...</td>\n",
       "    </tr>\n",
       "  </tbody>\n",
       "</table>\n",
       "</div>"
      ],
      "text/plain": [
       "   Unnamed: 0      title    imdb_id                     category  \\\n",
       "0           0  Toy Story  tt0114709  Audio/visual unsynchronised   \n",
       "1           1  Toy Story  tt0114709  Audio/visual unsynchronised   \n",
       "2           2  Toy Story  tt0114709              Character error   \n",
       "3           3  Toy Story  tt0114709              Character error   \n",
       "4           4  Toy Story  tt0114709              Character error   \n",
       "\n",
       "                                                goof  \n",
       "0  When Buzz notices that his cardboard spaceship...  \n",
       "1  When Buzz and Woody first meet, Buzz points hi...  \n",
       "2  When Buzz and Woody are trying to get back int...  \n",
       "3  When Sarge looks through his binoculars for th...  \n",
       "4  When all the toys are amazed at Buzz Lightyear...  "
      ]
     },
     "execution_count": 10,
     "metadata": {},
     "output_type": "execute_result"
    }
   ],
   "source": [
    "goofs_csv = pd.read_csv('./CleanedCSV/goofs.csv')\n",
    "goofs_csv.head()"
   ]
  },
  {
   "cell_type": "code",
   "execution_count": 20,
   "id": "5858141b-9479-462b-8d9f-5a371645455e",
   "metadata": {},
   "outputs": [
    {
     "name": "stderr",
     "output_type": "stream",
     "text": [
      "/var/folders/hl/hq5d39rj61s65dfk1rmq7z1c0000gn/T/ipykernel_70168/1204327089.py:2: FutureWarning: The default value of regex will change from True to False in a future version.\n",
      "  goofs_csv.title = goofs_csv.title.str.replace('\\,','')\n"
     ]
    },
    {
     "data": {
      "text/plain": [
       "array([False])"
      ]
     },
     "execution_count": 20,
     "metadata": {},
     "output_type": "execute_result"
    }
   ],
   "source": [
    "#remove commas in titles\n",
    "goofs_csv.title = goofs_csv.title.str.replace('\\,','')\n",
    "goofs_csv.title.str.contains('\\,').unique()\n"
   ]
  },
  {
   "cell_type": "code",
   "execution_count": 21,
   "id": "80719aee-7751-4477-b06a-051962f22dcd",
   "metadata": {},
   "outputs": [],
   "source": [
    "goofs_csv.to_csv('./CleanedCSV/goofsnocommas.csv')"
   ]
  },
  {
   "cell_type": "code",
   "execution_count": null,
   "id": "47b9530c-d311-4a1a-9037-11efa25f7cf1",
   "metadata": {},
   "outputs": [],
   "source": []
  }
 ],
 "metadata": {
  "kernelspec": {
   "display_name": "Python 3 (ipykernel)",
   "language": "python",
   "name": "python3"
  },
  "language_info": {
   "codemirror_mode": {
    "name": "ipython",
    "version": 3
   },
   "file_extension": ".py",
   "mimetype": "text/x-python",
   "name": "python",
   "nbconvert_exporter": "python",
   "pygments_lexer": "ipython3",
   "version": "3.9.12"
  }
 },
 "nbformat": 4,
 "nbformat_minor": 5
}
