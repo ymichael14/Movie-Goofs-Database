{
 "cells": [
  {
   "cell_type": "code",
   "execution_count": 56,
   "id": "fd2885dd-7980-47c4-834f-aea7348c8780",
   "metadata": {},
   "outputs": [],
   "source": [
    "from imdb import Cinemagoer\n",
    "import pandas as pd\n",
    "import re\n"
   ]
  },
  {
   "cell_type": "code",
   "execution_count": 64,
   "id": "7df111fd-5ecd-4a78-b633-800c1a3af9a5",
   "metadata": {},
   "outputs": [
    {
     "name": "stderr",
     "output_type": "stream",
     "text": [
      "/var/folders/hl/hq5d39rj61s65dfk1rmq7z1c0000gn/T/ipykernel_54217/3203172715.py:1: DtypeWarning: Columns (10) have mixed types. Specify dtype option on import or set low_memory=False.\n",
      "  df = pd.read_csv('./raw_files/movies_metadata.csv')\n"
     ]
    },
    {
     "data": {
      "text/plain": [
       "['0114709', '0113497', '0113228', '0114885', '0113041']"
      ]
     },
     "execution_count": 64,
     "metadata": {},
     "output_type": "execute_result"
    }
   ],
   "source": [
    "df = pd.read_csv('./raw_files/movies_metadata.csv')\n",
    "id_raw = list(df.imdb_id)\n",
    "movies = list()\n",
    "\n",
    "for i in id_raw:\n",
    "    try:\n",
    "        id_clean = re.sub('\\D', '', i)\n",
    "        movies.append(id_clean)\n",
    "    except:\n",
    "        continue\n",
    "    \n",
    "movies[:5]"
   ]
  },
  {
   "cell_type": "code",
   "execution_count": 48,
   "id": "4767c8ea-3a8a-4bd9-87a6-e386c5e471cb",
   "metadata": {},
   "outputs": [],
   "source": [
    "ia = Cinemagoer()"
   ]
  },
  {
   "cell_type": "code",
   "execution_count": 79,
   "id": "836dd4ce-d118-4c86-8922-0f1157f91002",
   "metadata": {},
   "outputs": [
    {
     "data": {
      "text/plain": [
       "\"When Max and John are dueling with the fishing poles, the whole line where Walter Matthau says that the cat has been 'crapping on his paper for years' is dubbed. His mouth doesn't move.\""
      ]
     },
     "execution_count": 79,
     "metadata": {},
     "output_type": "execute_result"
    }
   ],
   "source": [
    "goofs = ia.get_movie_goofs(movies[2])['data']['goofs']\n",
    "goofs[0]['text']"
   ]
  },
  {
   "cell_type": "code",
   "execution_count": null,
   "id": "f3829418-ca08-409c-bf70-d48955b314e1",
   "metadata": {},
   "outputs": [],
   "source": [
    "rows_list = []\n",
    "for m in movies:\n",
    "    title = ia.get_movie(m)\n",
    "    try:\n",
    "        goofs = ia.get_movie_goofs(m)['data']['goofs']\n",
    "        for g in goofs:\n",
    "            category = g['category']\n",
    "            goof = g['text']\n",
    "            dict1 = {'title':title,\n",
    "                 'category':category,\n",
    "                 'goof':goof}\n",
    "            rows_list.append(dict1)\n",
    "    except:\n",
    "        category = 'NA'\n",
    "        goof = 'NA'\n",
    "        dict1 = {'title':title,\n",
    "                 'category':category,\n",
    "                 'goof':goof}\n",
    "        rows_list.append(dict1)\n",
    "        \n",
    "result = pd.DataFrame(rows_list)               \n",
    "result.head()"
   ]
  },
  {
   "cell_type": "code",
   "execution_count": null,
   "id": "bbb46780-15fa-426d-9cfe-f708776e8cb4",
   "metadata": {},
   "outputs": [],
   "source": []
  }
 ],
 "metadata": {
  "kernelspec": {
   "display_name": "Python 3 (ipykernel)",
   "language": "python",
   "name": "python3"
  },
  "language_info": {
   "codemirror_mode": {
    "name": "ipython",
    "version": 3
   },
   "file_extension": ".py",
   "mimetype": "text/x-python",
   "name": "python",
   "nbconvert_exporter": "python",
   "pygments_lexer": "ipython3",
   "version": "3.9.12"
  }
 },
 "nbformat": 4,
 "nbformat_minor": 5
}
